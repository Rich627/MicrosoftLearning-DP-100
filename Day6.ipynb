{
 "cells": [
  {
   "cell_type": "code",
   "execution_count": 1,
   "metadata": {},
   "outputs": [
    {
     "name": "stdout",
     "output_type": "stream",
     "text": [
      "--2023-01-01 18:53:46--  https://raw.githubusercontent.com/MicrosoftDocs/mslearn-introduction-to-machine-learning/main/graphing.py\n",
      "Resolving raw.githubusercontent.com (raw.githubusercontent.com)... 2606:50c0:8002::154, 2606:50c0:8000::154, 2606:50c0:8003::154, ...\n",
      "Connecting to raw.githubusercontent.com (raw.githubusercontent.com)|2606:50c0:8002::154|:443... connected.\n",
      "HTTP request sent, awaiting response... 200 OK\n",
      "Length: 21511 (21K) [text/plain]\n",
      "Saving to: ‘graphing.py.2’\n",
      "\n",
      "graphing.py.2       100%[===================>]  21.01K  --.-KB/s    in 0s      \n",
      "\n",
      "2023-01-01 18:53:47 (58.4 MB/s) - ‘graphing.py.2’ saved [21511/21511]\n",
      "\n",
      "--2023-01-01 18:53:47--  https://raw.githubusercontent.com/MicrosoftDocs/mslearn-introduction-to-machine-learning/main/microsoft_custom_linear_regressor.py\n",
      "Resolving raw.githubusercontent.com (raw.githubusercontent.com)... 2606:50c0:8000::154, 2606:50c0:8003::154, 2606:50c0:8002::154, ...\n",
      "Connecting to raw.githubusercontent.com (raw.githubusercontent.com)|2606:50c0:8000::154|:443... connected.\n",
      "HTTP request sent, awaiting response... 200 OK\n",
      "Length: 2167 (2.1K) [text/plain]\n",
      "Saving to: ‘microsoft_custom_linear_regressor.py’\n",
      "\n",
      "microsoft_custom_li 100%[===================>]   2.12K  --.-KB/s    in 0.001s  \n",
      "\n",
      "2023-01-01 18:53:48 (2.27 MB/s) - ‘microsoft_custom_linear_regressor.py’ saved [2167/2167]\n",
      "\n",
      "--2023-01-01 18:53:48--  https://raw.githubusercontent.com/MicrosoftDocs/mslearn-introduction-to-machine-learning/main/Data/seattleWeather_1948-2017.csv\n",
      "Resolving raw.githubusercontent.com (raw.githubusercontent.com)... 2606:50c0:8003::154, 2606:50c0:8000::154, 2606:50c0:8002::154, ...\n",
      "Connecting to raw.githubusercontent.com (raw.githubusercontent.com)|2606:50c0:8003::154|:443... connected.\n",
      "HTTP request sent, awaiting response... 200 OK\n",
      "Length: 762017 (744K) [text/plain]\n",
      "Saving to: ‘seattleWeather_1948-2017.csv.1’\n",
      "\n",
      "seattleWeather_1948 100%[===================>] 744.16K  1.51MB/s    in 0.5s    \n",
      "\n",
      "2023-01-01 18:53:50 (1.51 MB/s) - ‘seattleWeather_1948-2017.csv.1’ saved [762017/762017]\n",
      "\n"
     ]
    },
    {
     "data": {
      "text/html": [
       "<div>\n",
       "<style scoped>\n",
       "    .dataframe tbody tr th:only-of-type {\n",
       "        vertical-align: middle;\n",
       "    }\n",
       "\n",
       "    .dataframe tbody tr th {\n",
       "        vertical-align: top;\n",
       "    }\n",
       "\n",
       "    .dataframe thead th {\n",
       "        text-align: right;\n",
       "    }\n",
       "</style>\n",
       "<table border=\"1\" class=\"dataframe\">\n",
       "  <thead>\n",
       "    <tr style=\"text-align: right;\">\n",
       "      <th></th>\n",
       "      <th>date</th>\n",
       "      <th>amount_of_precipitation</th>\n",
       "      <th>max_temperature</th>\n",
       "      <th>min_temperature</th>\n",
       "      <th>rain</th>\n",
       "      <th>year</th>\n",
       "    </tr>\n",
       "  </thead>\n",
       "  <tbody>\n",
       "    <tr>\n",
       "      <th>762</th>\n",
       "      <td>1950-02-01</td>\n",
       "      <td>0.00</td>\n",
       "      <td>27</td>\n",
       "      <td>1</td>\n",
       "      <td>False</td>\n",
       "      <td>1950.087611</td>\n",
       "    </tr>\n",
       "    <tr>\n",
       "      <th>4414</th>\n",
       "      <td>1960-02-01</td>\n",
       "      <td>0.15</td>\n",
       "      <td>52</td>\n",
       "      <td>44</td>\n",
       "      <td>True</td>\n",
       "      <td>1960.087611</td>\n",
       "    </tr>\n",
       "    <tr>\n",
       "      <th>8067</th>\n",
       "      <td>1970-02-01</td>\n",
       "      <td>0.00</td>\n",
       "      <td>50</td>\n",
       "      <td>42</td>\n",
       "      <td>False</td>\n",
       "      <td>1970.087611</td>\n",
       "    </tr>\n",
       "    <tr>\n",
       "      <th>11719</th>\n",
       "      <td>1980-02-01</td>\n",
       "      <td>0.37</td>\n",
       "      <td>54</td>\n",
       "      <td>36</td>\n",
       "      <td>True</td>\n",
       "      <td>1980.087611</td>\n",
       "    </tr>\n",
       "    <tr>\n",
       "      <th>15372</th>\n",
       "      <td>1990-02-01</td>\n",
       "      <td>0.08</td>\n",
       "      <td>45</td>\n",
       "      <td>37</td>\n",
       "      <td>True</td>\n",
       "      <td>1990.087611</td>\n",
       "    </tr>\n",
       "    <tr>\n",
       "      <th>19024</th>\n",
       "      <td>2000-02-01</td>\n",
       "      <td>1.34</td>\n",
       "      <td>49</td>\n",
       "      <td>41</td>\n",
       "      <td>True</td>\n",
       "      <td>2000.087611</td>\n",
       "    </tr>\n",
       "    <tr>\n",
       "      <th>22677</th>\n",
       "      <td>2010-02-01</td>\n",
       "      <td>0.08</td>\n",
       "      <td>49</td>\n",
       "      <td>40</td>\n",
       "      <td>True</td>\n",
       "      <td>2010.087611</td>\n",
       "    </tr>\n",
       "    <tr>\n",
       "      <th>25234</th>\n",
       "      <td>2017-02-01</td>\n",
       "      <td>0.00</td>\n",
       "      <td>43</td>\n",
       "      <td>29</td>\n",
       "      <td>False</td>\n",
       "      <td>2017.087611</td>\n",
       "    </tr>\n",
       "  </tbody>\n",
       "</table>\n",
       "</div>"
      ],
      "text/plain": [
       "            date  amount_of_precipitation  max_temperature  min_temperature  \\\n",
       "762   1950-02-01                     0.00               27                1   \n",
       "4414  1960-02-01                     0.15               52               44   \n",
       "8067  1970-02-01                     0.00               50               42   \n",
       "11719 1980-02-01                     0.37               54               36   \n",
       "15372 1990-02-01                     0.08               45               37   \n",
       "19024 2000-02-01                     1.34               49               41   \n",
       "22677 2010-02-01                     0.08               49               40   \n",
       "25234 2017-02-01                     0.00               43               29   \n",
       "\n",
       "        rain         year  \n",
       "762    False  1950.087611  \n",
       "4414    True  1960.087611  \n",
       "8067   False  1970.087611  \n",
       "11719   True  1980.087611  \n",
       "15372   True  1990.087611  \n",
       "19024   True  2000.087611  \n",
       "22677   True  2010.087611  \n",
       "25234  False  2017.087611  "
      ]
     },
     "execution_count": 1,
     "metadata": {},
     "output_type": "execute_result"
    }
   ],
   "source": [
    "import pandas\n",
    "!wget https://raw.githubusercontent.com/MicrosoftDocs/mslearn-introduction-to-machine-learning/main/graphing.py\n",
    "!wget https://raw.githubusercontent.com/MicrosoftDocs/mslearn-introduction-to-machine-learning/main/microsoft_custom_linear_regressor.py\n",
    "!wget https://raw.githubusercontent.com/MicrosoftDocs/mslearn-introduction-to-machine-learning/main/Data/seattleWeather_1948-2017.csv\n",
    "from datetime import datetime\n",
    "\n",
    "# Load a file that contains our weather data\n",
    "dataset = pandas.read_csv('seattleWeather_1948-2017.csv', parse_dates=['date'])\n",
    "\n",
    "# Convert the dates into numbers so we can use them in our models\n",
    "# We make a year column that can contain fractions. For example,\n",
    "# 1948.5 is halfway through the year 1948\n",
    "dataset[\"year\"] = [(d.year + d.timetuple().tm_yday / 365.25) for d in dataset.date]\n",
    "\n",
    "\n",
    "# For the sake of this exercise, let's look at February 1 for the following years:\n",
    "desired_dates = [\n",
    "    datetime(1950,2,1),\n",
    "    datetime(1960,2,1),\n",
    "    datetime(1970,2,1),\n",
    "    datetime(1980,2,1),\n",
    "    datetime(1990,2,1),\n",
    "    datetime(2000,2,1),\n",
    "    datetime(2010,2,1),\n",
    "    datetime(2017,2,1),\n",
    "]\n",
    "\n",
    "dataset = dataset[dataset.date.isin(desired_dates)].copy()\n",
    "\n",
    "# Print the dataset\n",
    "dataset\n"
   ]
  },
  {
   "cell_type": "code",
   "execution_count": 2,
   "metadata": {},
   "outputs": [],
   "source": [
    "import numpy\n",
    "\n",
    "def sum_of_square_differences(estimate, actual):\n",
    "    # Note that with NumPy, to square each value we use **\n",
    "    return numpy.sum((estimate - actual)**2)\n",
    "\n",
    "def sum_of_absolute_differences(estimate, actual):\n",
    "    return numpy.sum(numpy.abs(estimate - actual))"
   ]
  },
  {
   "cell_type": "code",
   "execution_count": 3,
   "metadata": {},
   "outputs": [
    {
     "name": "stdout",
     "output_type": "stream",
     "text": [
      "SSD: 2\n",
      "SAD: 2\n"
     ]
    }
   ],
   "source": [
    "actual_label = numpy.array([1, 3])\n",
    "model_estimate = numpy.array([2, 2])\n",
    "\n",
    "print(\"SSD:\", sum_of_square_differences(model_estimate, actual_label))\n",
    "print(\"SAD:\", sum_of_absolute_differences(model_estimate, actual_label))"
   ]
  },
  {
   "cell_type": "code",
   "execution_count": 4,
   "metadata": {},
   "outputs": [
    {
     "name": "stdout",
     "output_type": "stream",
     "text": [
      "SSD: 4\n",
      "SAD: 2\n"
     ]
    }
   ],
   "source": [
    "actual_label = numpy.array([1, 3])\n",
    "model_estimate = numpy.array([1, 1])\n",
    "\n",
    "print(\"SSD:\", sum_of_square_differences(model_estimate, actual_label))\n",
    "print(\"SAD:\", sum_of_absolute_differences(model_estimate, actual_label))"
   ]
  },
  {
   "cell_type": "code",
   "execution_count": 5,
   "metadata": {},
   "outputs": [
    {
     "data": {
      "application/vnd.plotly.v1+json": {
       "config": {
        "plotlyServerURL": "https://plot.ly"
       },
       "data": [
        {
         "hovertemplate": "year=%{x}<br>min temperature=%{y}<extra></extra>",
         "legendgroup": "",
         "marker": {
          "color": "#636efa",
          "size": 20,
          "symbol": "circle"
         },
         "mode": "markers",
         "name": "",
         "orientation": "v",
         "showlegend": false,
         "type": "scatter",
         "x": [
          1950.0876112251883,
          1960.0876112251883,
          1970.0876112251883,
          1980.0876112251883,
          1990.0876112251883,
          2000.0876112251883,
          2010.0876112251883,
          2017.0876112251883
         ],
         "xaxis": "x",
         "y": [
          1,
          44,
          42,
          36,
          37,
          41,
          40,
          29
         ],
         "yaxis": "y"
        }
       ],
       "layout": {
        "legend": {
         "tracegroupgap": 0
        },
        "shapes": [
         {
          "line": {
           "color": "rgb(228,26,28)"
          },
          "path": "M1950.0876112251883 26.09360927798457 L 1950.4242946422737 26.16805778717736 L 1950.760978059359 26.242506296370095 L 1951.0976614764445 26.316954805562887 L 1951.4343448935301 26.391403314755678 L 1951.7710283106155 26.46585182394847 L 1952.107711727701 26.540300333141204 L 1952.4443951447863 26.614748842333995 L 1952.7810785618717 26.68919735152673 L 1953.117761978957 26.763645860719464 L 1953.4544453960425 26.838094369912255 L 1953.791128813128 26.91254287910499 L 1954.1278122302135 26.986991388297838 L 1954.464495647299 27.061439897490573 L 1954.8011790643843 27.135888406683364 L 1955.1378624814697 27.2103369158761 L 1955.474545898555 27.28478542506889 L 1955.8112293156405 27.359233934261624 L 1956.147912732726 27.433682443454416 L 1956.4845961498115 27.508130952647207 L 1956.821279566897 27.582579461839998 L 1957.1579629839823 27.657027971032733 L 1957.4946464010677 27.731476480225524 L 1957.831329818153 27.80592498941826 L 1958.1680132352385 27.88037349861105 L 1958.504696652324 27.954822007803784 L 1958.8413800694095 28.029270516996576 L 1959.178063486495 28.103719026189367 L 1959.5147469035803 28.1781675353821 L 1959.8514303206657 28.252616044574893 L 1960.188113737751 28.327064553767627 L 1960.5247971548365 28.40151306296042 L 1960.861480571922 28.475961572153153 L 1961.1981639890073 28.550410081345944 L 1961.534847406093 28.624858590538736 L 1961.8715308231783 28.699307099731527 L 1962.2082142402637 28.77375560892426 L 1962.544897657349 28.848204118117053 L 1962.8815810744345 28.922652627309787 L 1963.21826449152 28.99710113650258 L 1963.5549479086053 29.071549645695313 L 1963.891631325691 29.145998154888105 L 1964.2283147427763 29.220446664080896 L 1964.5649981598617 29.29489517327363 L 1964.901681576947 29.369343682466422 L 1965.2383649940325 29.443792191659156 L 1965.575048411118 29.518240700851948 L 1965.9117318282033 29.592689210044682 L 1966.248415245289 29.66713771923753 L 1966.5850986623743 29.741586228430265 L 1966.9217820794597 29.816034737623056 L 1967.258465496545 29.89048324681579 L 1967.5951489136305 29.964931756008582 L 1967.931832330716 30.039380265201316 L 1968.2685157478013 30.113828774394108 L 1968.6051991648867 30.188277283586842 L 1968.9418825819723 30.26272579277969 L 1969.2785659990577 30.337174301972425 L 1969.6152494161431 30.41162281116516 L 1969.9519328332285 30.48607132035795 L 1970.288616250314 30.560519829550685 L 1970.6252996673993 30.634968338743477 L 1970.9619830844847 30.70941684793621 L 1971.2986665015703 30.78386535712906 L 1971.6353499186557 30.858313866321794 L 1971.9720333357411 30.932762375514585 L 1972.3087167528265 31.00721088470732 L 1972.645400169912 31.08165939390011 L 1972.9820835869973 31.156107903092845 L 1973.3187670040827 31.230556412285637 L 1973.655450421168 31.30500492147837 L 1973.9921338382537 31.37945343067122 L 1974.3288172553391 31.453901939863954 L 1974.6655006724245 31.528350449056745 L 1975.00218408951 31.60279895824948 L 1975.3388675065953 31.67724746744227 L 1975.6755509236807 31.751695976635006 L 1976.012234340766 31.82614448582774 L 1976.3489177578517 31.900592995020588 L 1976.6856011749371 31.975041504213323 L 1977.0222845920225 32.049490013406114 L 1977.358968009108 32.12393852259885 L 1977.6956514261933 32.19838703179164 L 1978.0323348432787 32.272835540984374 L 1978.369018260364 32.347284050177166 L 1978.7057016774497 32.42173255936996 L 1979.0423850945351 32.49618106856275 L 1979.3790685116205 32.57062957775548 L 1979.715751928706 32.645078086948274 L 1980.0524353457913 32.71952659614101 L 1980.3891187628767 32.7939751053338 L 1980.725802179962 32.868423614526534 L 1981.0624855970475 32.942872123719326 L 1981.3991690141331 33.01732063291212 L 1981.7358524312185 33.09176914210485 L 1982.072535848304 33.16621765129764 L 1982.4092192653893 33.24066616049038 L 1982.7459026824747 33.31511466968317 L 1983.08258609956 33.3895631788759 L 1983.4192695166455 33.464011688068695 L 1983.7559529337311 33.538460197261486 L 1984.0926363508165 33.61290870645428 L 1984.429319767902 33.68735721564701 L 1984.7660031849873 33.7618057248398 L 1985.1026866020727 33.83625423403254 L 1985.439370019158 33.91070274322533 L 1985.7760534362435 33.98515125241806 L 1986.1127368533291 34.059599761610855 L 1986.4494202704145 34.134048270803646 L 1986.7861036875 34.20849677999638 L 1987.1227871045853 34.28294528918917 L 1987.4594705216707 34.357393798381906 L 1987.796153938756 34.4318423075747 L 1988.1328373558415 34.50629081676743 L 1988.469520772927 34.580739325960224 L 1988.8062041900125 34.655187835153015 L 1989.142887607098 34.729636344345806 L 1989.4795710241833 34.80408485353854 L 1989.8162544412687 34.87853336273133 L 1990.152937858354 34.95298187192407 L 1990.4896212754395 35.02743038111686 L 1990.826304692525 35.10187889030959 L 1991.1629881096105 35.17632739950244 L 1991.499671526696 35.250775908695175 L 1991.8363549437813 35.32522441788791 L 1992.1730383608667 35.3996729270807 L 1992.509721777952 35.474121436273435 L 1992.8464051950375 35.54856994546623 L 1993.183088612123 35.62301845465896 L 1993.5197720292085 35.69746696385181 L 1993.856455446294 35.771915473044544 L 1994.1931388633793 35.846363982237335 L 1994.5298222804647 35.92081249143007 L 1994.86650569755 35.99526100062286 L 1995.2031891146355 36.069709509815596 L 1995.539872531721 36.14415801900839 L 1995.8765559488063 36.21860652820112 L 1996.213239365892 36.29305503739397 L 1996.5499227829773 36.367503546586704 L 1996.8866062000627 36.441952055779495 L 1997.223289617148 36.51640056497223 L 1997.5599730342335 36.59084907416502 L 1997.896656451319 36.665297583357756 L 1998.2333398684043 36.73974609255049 L 1998.57002328549 36.81419460174334 L 1998.9067067025753 36.88864311093607 L 1999.2433901196607 36.963091620128864 L 1999.580073536746 37.0375401293216 L 1999.9167569538315 37.11198863851439 L 2000.253440370917 37.186437147707124 L 2000.5901237880023 37.260885656899916 L 2000.9268072050877 37.33533416609265 L 2001.2634906221733 37.4097826752855 L 2001.6001740392587 37.48423118447823 L 2001.9368574563441 37.558679693671024 L 2002.2735408734295 37.63312820286376 L 2002.610224290515 37.70757671205655 L 2002.9469077076003 37.782025221249285 L 2003.2835911246857 37.856473730442076 L 2003.6202745417713 37.93092223963487 L 2003.9569579588567 38.0053707488276 L 2004.2936413759421 38.07981925802039 L 2004.6303247930275 38.15426776721313 L 2004.967008210113 38.22871627640592 L 2005.3036916271983 38.30316478559865 L 2005.6403750442837 38.377613294791445 L 2005.9770584613693 38.452061803984236 L 2006.3137418784547 38.52651031317703 L 2006.6504252955401 38.60095882236976 L 2006.9871087126255 38.67540733156255 L 2007.323792129711 38.74985584075529 L 2007.6604755467963 38.82430434994808 L 2007.9971589638817 38.898752859140814 L 2008.333842380967 38.973201368333605 L 2008.6705257980527 39.047649877526396 L 2009.0072092151381 39.12209838671913 L 2009.3438926322235 39.19654689591192 L 2009.680576049309 39.27099540510466 L 2010.0172594663943 39.34544391429745 L 2010.3539428834797 39.41989242349018 L 2010.690626300565 39.494340932682974 L 2011.0273097176507 39.568789441875765 L 2011.3639931347361 39.643237951068556 L 2011.7006765518215 39.71768646026129 L 2012.037359968907 39.79213496945408 L 2012.3740433859923 39.86658347864682 L 2012.7107268030777 39.94103198783961 L 2013.047410220163 40.01548049703234 L 2013.3840936372487 40.08992900622519 L 2013.7207770543341 40.164377515417925 L 2014.0574604714195 40.23882602461072 L 2014.394143888505 40.31327453380345 L 2014.7308273055903 40.387723042996186 L 2015.0675107226757 40.46217155218898 L 2015.404194139761 40.53662006138171 L 2015.7408775568465 40.6110685705745 L 2016.0775609739321 40.685517079767294 L 2016.4142443910175 40.759965588960085 L 2016.750927808103 40.83441409815282 L 2017.0876112251883 40.90886260734561",
          "type": "path"
         }
        ],
        "template": {
         "data": {
          "bar": [
           {
            "error_x": {
             "color": "#2a3f5f"
            },
            "error_y": {
             "color": "#2a3f5f"
            },
            "marker": {
             "line": {
              "color": "white",
              "width": 0.5
             },
             "pattern": {
              "fillmode": "overlay",
              "size": 10,
              "solidity": 0.2
             }
            },
            "type": "bar"
           }
          ],
          "barpolar": [
           {
            "marker": {
             "line": {
              "color": "white",
              "width": 0.5
             },
             "pattern": {
              "fillmode": "overlay",
              "size": 10,
              "solidity": 0.2
             }
            },
            "type": "barpolar"
           }
          ],
          "box": [
           {
            "boxpoints": "outliers",
            "notched": false,
            "type": "box"
           }
          ],
          "carpet": [
           {
            "aaxis": {
             "endlinecolor": "#2a3f5f",
             "gridcolor": "#C8D4E3",
             "linecolor": "#C8D4E3",
             "minorgridcolor": "#C8D4E3",
             "startlinecolor": "#2a3f5f"
            },
            "baxis": {
             "endlinecolor": "#2a3f5f",
             "gridcolor": "#C8D4E3",
             "linecolor": "#C8D4E3",
             "minorgridcolor": "#C8D4E3",
             "startlinecolor": "#2a3f5f"
            },
            "type": "carpet"
           }
          ],
          "choropleth": [
           {
            "colorbar": {
             "outlinewidth": 0,
             "ticks": ""
            },
            "type": "choropleth"
           }
          ],
          "contour": [
           {
            "colorbar": {
             "outlinewidth": 0,
             "ticks": ""
            },
            "colorscale": [
             [
              0,
              "#0d0887"
             ],
             [
              0.1111111111111111,
              "#46039f"
             ],
             [
              0.2222222222222222,
              "#7201a8"
             ],
             [
              0.3333333333333333,
              "#9c179e"
             ],
             [
              0.4444444444444444,
              "#bd3786"
             ],
             [
              0.5555555555555556,
              "#d8576b"
             ],
             [
              0.6666666666666666,
              "#ed7953"
             ],
             [
              0.7777777777777778,
              "#fb9f3a"
             ],
             [
              0.8888888888888888,
              "#fdca26"
             ],
             [
              1,
              "#f0f921"
             ]
            ],
            "type": "contour"
           }
          ],
          "contourcarpet": [
           {
            "colorbar": {
             "outlinewidth": 0,
             "ticks": ""
            },
            "type": "contourcarpet"
           }
          ],
          "heatmap": [
           {
            "colorbar": {
             "outlinewidth": 0,
             "ticks": ""
            },
            "colorscale": [
             [
              0,
              "#0d0887"
             ],
             [
              0.1111111111111111,
              "#46039f"
             ],
             [
              0.2222222222222222,
              "#7201a8"
             ],
             [
              0.3333333333333333,
              "#9c179e"
             ],
             [
              0.4444444444444444,
              "#bd3786"
             ],
             [
              0.5555555555555556,
              "#d8576b"
             ],
             [
              0.6666666666666666,
              "#ed7953"
             ],
             [
              0.7777777777777778,
              "#fb9f3a"
             ],
             [
              0.8888888888888888,
              "#fdca26"
             ],
             [
              1,
              "#f0f921"
             ]
            ],
            "type": "heatmap"
           }
          ],
          "heatmapgl": [
           {
            "colorbar": {
             "outlinewidth": 0,
             "ticks": ""
            },
            "colorscale": [
             [
              0,
              "#0d0887"
             ],
             [
              0.1111111111111111,
              "#46039f"
             ],
             [
              0.2222222222222222,
              "#7201a8"
             ],
             [
              0.3333333333333333,
              "#9c179e"
             ],
             [
              0.4444444444444444,
              "#bd3786"
             ],
             [
              0.5555555555555556,
              "#d8576b"
             ],
             [
              0.6666666666666666,
              "#ed7953"
             ],
             [
              0.7777777777777778,
              "#fb9f3a"
             ],
             [
              0.8888888888888888,
              "#fdca26"
             ],
             [
              1,
              "#f0f921"
             ]
            ],
            "type": "heatmapgl"
           }
          ],
          "histogram": [
           {
            "marker": {
             "line": {
              "width": 1
             },
             "pattern": {
              "fillmode": "overlay",
              "size": 10,
              "solidity": 0.2
             }
            },
            "type": "histogram"
           }
          ],
          "histogram2d": [
           {
            "colorbar": {
             "outlinewidth": 0,
             "ticks": ""
            },
            "colorscale": [
             [
              0,
              "#0d0887"
             ],
             [
              0.1111111111111111,
              "#46039f"
             ],
             [
              0.2222222222222222,
              "#7201a8"
             ],
             [
              0.3333333333333333,
              "#9c179e"
             ],
             [
              0.4444444444444444,
              "#bd3786"
             ],
             [
              0.5555555555555556,
              "#d8576b"
             ],
             [
              0.6666666666666666,
              "#ed7953"
             ],
             [
              0.7777777777777778,
              "#fb9f3a"
             ],
             [
              0.8888888888888888,
              "#fdca26"
             ],
             [
              1,
              "#f0f921"
             ]
            ],
            "type": "histogram2d"
           }
          ],
          "histogram2dcontour": [
           {
            "colorbar": {
             "outlinewidth": 0,
             "ticks": ""
            },
            "colorscale": [
             [
              0,
              "#0d0887"
             ],
             [
              0.1111111111111111,
              "#46039f"
             ],
             [
              0.2222222222222222,
              "#7201a8"
             ],
             [
              0.3333333333333333,
              "#9c179e"
             ],
             [
              0.4444444444444444,
              "#bd3786"
             ],
             [
              0.5555555555555556,
              "#d8576b"
             ],
             [
              0.6666666666666666,
              "#ed7953"
             ],
             [
              0.7777777777777778,
              "#fb9f3a"
             ],
             [
              0.8888888888888888,
              "#fdca26"
             ],
             [
              1,
              "#f0f921"
             ]
            ],
            "type": "histogram2dcontour"
           }
          ],
          "mesh3d": [
           {
            "colorbar": {
             "outlinewidth": 0,
             "ticks": ""
            },
            "type": "mesh3d"
           }
          ],
          "parcoords": [
           {
            "line": {
             "colorbar": {
              "outlinewidth": 0,
              "ticks": ""
             }
            },
            "type": "parcoords"
           }
          ],
          "pie": [
           {
            "automargin": true,
            "type": "pie"
           }
          ],
          "scatter": [
           {
            "fillpattern": {
             "fillmode": "overlay",
             "size": 10,
             "solidity": 0.2
            },
            "marker": {
             "opacity": 0.8
            },
            "type": "scatter"
           }
          ],
          "scatter3d": [
           {
            "line": {
             "colorbar": {
              "outlinewidth": 0,
              "ticks": ""
             }
            },
            "marker": {
             "colorbar": {
              "outlinewidth": 0,
              "ticks": ""
             },
             "opacity": 0.8
            },
            "type": "scatter3d"
           }
          ],
          "scattercarpet": [
           {
            "marker": {
             "colorbar": {
              "outlinewidth": 0,
              "ticks": ""
             }
            },
            "type": "scattercarpet"
           }
          ],
          "scattergeo": [
           {
            "marker": {
             "colorbar": {
              "outlinewidth": 0,
              "ticks": ""
             }
            },
            "type": "scattergeo"
           }
          ],
          "scattergl": [
           {
            "marker": {
             "colorbar": {
              "outlinewidth": 0,
              "ticks": ""
             }
            },
            "type": "scattergl"
           }
          ],
          "scattermapbox": [
           {
            "marker": {
             "colorbar": {
              "outlinewidth": 0,
              "ticks": ""
             }
            },
            "type": "scattermapbox"
           }
          ],
          "scatterpolar": [
           {
            "marker": {
             "colorbar": {
              "outlinewidth": 0,
              "ticks": ""
             }
            },
            "type": "scatterpolar"
           }
          ],
          "scatterpolargl": [
           {
            "marker": {
             "colorbar": {
              "outlinewidth": 0,
              "ticks": ""
             }
            },
            "type": "scatterpolargl"
           }
          ],
          "scatterternary": [
           {
            "marker": {
             "colorbar": {
              "outlinewidth": 0,
              "ticks": ""
             }
            },
            "type": "scatterternary"
           }
          ],
          "surface": [
           {
            "colorbar": {
             "outlinewidth": 0,
             "ticks": ""
            },
            "colorscale": [
             [
              0,
              "#0d0887"
             ],
             [
              0.1111111111111111,
              "#46039f"
             ],
             [
              0.2222222222222222,
              "#7201a8"
             ],
             [
              0.3333333333333333,
              "#9c179e"
             ],
             [
              0.4444444444444444,
              "#bd3786"
             ],
             [
              0.5555555555555556,
              "#d8576b"
             ],
             [
              0.6666666666666666,
              "#ed7953"
             ],
             [
              0.7777777777777778,
              "#fb9f3a"
             ],
             [
              0.8888888888888888,
              "#fdca26"
             ],
             [
              1,
              "#f0f921"
             ]
            ],
            "type": "surface"
           }
          ],
          "table": [
           {
            "cells": {
             "fill": {
              "color": "#EBF0F8"
             },
             "line": {
              "color": "white"
             }
            },
            "header": {
             "fill": {
              "color": "#C8D4E3"
             },
             "line": {
              "color": "white"
             }
            },
            "type": "table"
           }
          ]
         },
         "layout": {
          "annotationdefaults": {
           "arrowcolor": "#2a3f5f",
           "arrowhead": 0,
           "arrowwidth": 1
          },
          "autotypenumbers": "strict",
          "coloraxis": {
           "colorbar": {
            "outlinewidth": 0,
            "ticks": ""
           }
          },
          "colorscale": {
           "diverging": [
            [
             0,
             "#8e0152"
            ],
            [
             0.1,
             "#c51b7d"
            ],
            [
             0.2,
             "#de77ae"
            ],
            [
             0.3,
             "#f1b6da"
            ],
            [
             0.4,
             "#fde0ef"
            ],
            [
             0.5,
             "#f7f7f7"
            ],
            [
             0.6,
             "#e6f5d0"
            ],
            [
             0.7,
             "#b8e186"
            ],
            [
             0.8,
             "#7fbc41"
            ],
            [
             0.9,
             "#4d9221"
            ],
            [
             1,
             "#276419"
            ]
           ],
           "sequential": [
            [
             0,
             "#0d0887"
            ],
            [
             0.1111111111111111,
             "#46039f"
            ],
            [
             0.2222222222222222,
             "#7201a8"
            ],
            [
             0.3333333333333333,
             "#9c179e"
            ],
            [
             0.4444444444444444,
             "#bd3786"
            ],
            [
             0.5555555555555556,
             "#d8576b"
            ],
            [
             0.6666666666666666,
             "#ed7953"
            ],
            [
             0.7777777777777778,
             "#fb9f3a"
            ],
            [
             0.8888888888888888,
             "#fdca26"
            ],
            [
             1,
             "#f0f921"
            ]
           ],
           "sequentialminus": [
            [
             0,
             "#0d0887"
            ],
            [
             0.1111111111111111,
             "#46039f"
            ],
            [
             0.2222222222222222,
             "#7201a8"
            ],
            [
             0.3333333333333333,
             "#9c179e"
            ],
            [
             0.4444444444444444,
             "#bd3786"
            ],
            [
             0.5555555555555556,
             "#d8576b"
            ],
            [
             0.6666666666666666,
             "#ed7953"
            ],
            [
             0.7777777777777778,
             "#fb9f3a"
            ],
            [
             0.8888888888888888,
             "#fdca26"
            ],
            [
             1,
             "#f0f921"
            ]
           ]
          },
          "colorway": [
           "#636efa",
           "#EF553B",
           "#00cc96",
           "#ab63fa",
           "#FFA15A",
           "#19d3f3",
           "#FF6692",
           "#B6E880",
           "#FF97FF",
           "#FECB52"
          ],
          "font": {
           "color": "#2a3f5f"
          },
          "geo": {
           "bgcolor": "white",
           "lakecolor": "white",
           "landcolor": "white",
           "showlakes": true,
           "showland": true,
           "subunitcolor": "#C8D4E3"
          },
          "height": 400,
          "hoverlabel": {
           "align": "left"
          },
          "hovermode": "closest",
          "mapbox": {
           "style": "light"
          },
          "margin": {
           "b": 2,
           "l": 2,
           "r": 2,
           "t": 30
          },
          "paper_bgcolor": "white",
          "plot_bgcolor": "white",
          "polar": {
           "angularaxis": {
            "gridcolor": "#EBF0F8",
            "linecolor": "#EBF0F8",
            "ticks": ""
           },
           "bgcolor": "white",
           "radialaxis": {
            "gridcolor": "#EBF0F8",
            "linecolor": "#EBF0F8",
            "ticks": ""
           }
          },
          "scene": {
           "camera": {
            "eye": {
             "x": 1.5,
             "y": 1.5,
             "z": 0.1
            }
           },
           "xaxis": {
            "backgroundcolor": "white",
            "gridcolor": "#DFE8F3",
            "gridwidth": 2,
            "linecolor": "#EBF0F8",
            "showbackground": true,
            "ticks": "",
            "zerolinecolor": "#EBF0F8"
           },
           "yaxis": {
            "backgroundcolor": "white",
            "gridcolor": "#DFE8F3",
            "gridwidth": 2,
            "linecolor": "#EBF0F8",
            "showbackground": true,
            "ticks": "",
            "zerolinecolor": "#EBF0F8"
           },
           "zaxis": {
            "backgroundcolor": "white",
            "gridcolor": "#DFE8F3",
            "gridwidth": 2,
            "linecolor": "#EBF0F8",
            "showbackground": true,
            "ticks": "",
            "zerolinecolor": "#EBF0F8"
           }
          },
          "shapedefaults": {
           "line": {
            "color": "#2a3f5f"
           }
          },
          "ternary": {
           "aaxis": {
            "gridcolor": "#DFE8F3",
            "linecolor": "#A2B1C6",
            "ticks": ""
           },
           "baxis": {
            "gridcolor": "#DFE8F3",
            "linecolor": "#A2B1C6",
            "ticks": ""
           },
           "bgcolor": "white",
           "caxis": {
            "gridcolor": "#DFE8F3",
            "linecolor": "#A2B1C6",
            "ticks": ""
           }
          },
          "title": {
           "x": 0.5
          },
          "xaxis": {
           "automargin": true,
           "gridcolor": "#EBF0F8",
           "linecolor": "#EBF0F8",
           "linewidth": 2,
           "showline": true,
           "ticks": "",
           "title": {
            "standoff": 15
           },
           "zerolinecolor": "#EBF0F8",
           "zerolinewidth": 2
          },
          "yaxis": {
           "automargin": true,
           "gridcolor": "#EBF0F8",
           "linecolor": "#EBF0F8",
           "linewidth": 2,
           "showline": true,
           "ticks": "",
           "title": {
            "standoff": 15
           },
           "zerolinecolor": "#EBF0F8",
           "zerolinewidth": 2
          }
         }
        },
        "xaxis": {
         "anchor": "y",
         "domain": [
          0,
          1
         ],
         "title": {
          "text": "year"
         }
        },
        "yaxis": {
         "anchor": "x",
         "domain": [
          0,
          1
         ],
         "title": {
          "text": "min temperature"
         }
        }
       }
      }
     },
     "metadata": {},
     "output_type": "display_data"
    }
   ],
   "source": [
    "from microsoft_custom_linear_regressor import MicrosoftCustomLinearRegressor\n",
    "import graphing\n",
    "\n",
    "# Create and fit the model\n",
    "# We use a custom object that we've hidden from this notebook, because\n",
    "# you don't need to understand its details. This fits a linear model\n",
    "# by using a provided cost function\n",
    "\n",
    "# Fit a model by using sum of square differences\n",
    "model = MicrosoftCustomLinearRegressor().fit(X = dataset.year, \n",
    "                                             y = dataset.min_temperature, \n",
    "                                             cost_function = sum_of_square_differences)\n",
    "\n",
    "# Graph the model\n",
    "graphing.scatter_2D(dataset, \n",
    "                    label_x=\"year\", \n",
    "                    label_y=\"min_temperature\", \n",
    "                    trendline=model.predict)"
   ]
  },
  {
   "cell_type": "code",
   "execution_count": 6,
   "metadata": {},
   "outputs": [
    {
     "data": {
      "application/vnd.plotly.v1+json": {
       "config": {
        "plotlyServerURL": "https://plot.ly"
       },
       "data": [
        {
         "hovertemplate": "year=%{x}<br>min temperature=%{y}<extra></extra>",
         "legendgroup": "",
         "marker": {
          "color": "#636efa",
          "size": 20,
          "symbol": "circle"
         },
         "mode": "markers",
         "name": "",
         "orientation": "v",
         "showlegend": false,
         "type": "scatter",
         "x": [
          1950.0876112251883,
          1960.0876112251883,
          1970.0876112251883,
          1980.0876112251883,
          1990.0876112251883,
          2000.0876112251883,
          2010.0876112251883,
          2017.0876112251883
         ],
         "xaxis": "x",
         "y": [
          1,
          44,
          42,
          36,
          37,
          41,
          40,
          29
         ],
         "yaxis": "y"
        }
       ],
       "layout": {
        "legend": {
         "tracegroupgap": 0
        },
        "shapes": [
         {
          "line": {
           "color": "rgb(228,26,28)"
          },
          "path": "M1950.0876112251883 38.42538698955543 L 1950.4242946422737 38.43229080808975 L 1950.760978059359 38.43919462662407 L 1951.0976614764445 38.44609844515839 L 1951.4343448935301 38.45300226369271 L 1951.7710283106155 38.459906082227036 L 1952.107711727701 38.466809900761355 L 1952.4443951447863 38.473713719295674 L 1952.7810785618717 38.48061753782999 L 1953.117761978957 38.48752135636431 L 1953.4544453960425 38.49442517489863 L 1953.791128813128 38.50132899343295 L 1954.1278122302135 38.508232811967275 L 1954.464495647299 38.515136630501594 L 1954.8011790643843 38.52204044903591 L 1955.1378624814697 38.52894426757023 L 1955.474545898555 38.53584808610455 L 1955.8112293156405 38.54275190463887 L 1956.147912732726 38.54965572317319 L 1956.4845961498115 38.556559541707514 L 1956.821279566897 38.56346336024183 L 1957.1579629839823 38.57036717877615 L 1957.4946464010677 38.57727099731047 L 1957.831329818153 38.58417481584479 L 1958.1680132352385 38.59107863437911 L 1958.504696652324 38.59798245291343 L 1958.8413800694095 38.604886271447754 L 1959.178063486495 38.61179008998207 L 1959.5147469035803 38.61869390851639 L 1959.8514303206657 38.62559772705071 L 1960.188113737751 38.63250154558503 L 1960.5247971548365 38.639405364119355 L 1960.861480571922 38.646309182653674 L 1961.1981639890073 38.65321300118799 L 1961.534847406093 38.66011681972231 L 1961.8715308231783 38.66702063825664 L 1962.2082142402637 38.67392445679096 L 1962.544897657349 38.680828275325275 L 1962.8815810744345 38.687732093859594 L 1963.21826449152 38.69463591239391 L 1963.5549479086053 38.70153973092823 L 1963.891631325691 38.70844354946256 L 1964.2283147427763 38.71534736799688 L 1964.5649981598617 38.722251186531196 L 1964.901681576947 38.729155005065515 L 1965.2383649940325 38.73605882359983 L 1965.575048411118 38.74296264213415 L 1965.9117318282033 38.74986646066847 L 1966.248415245289 38.7567702792028 L 1966.5850986623743 38.763674097737116 L 1966.9217820794597 38.770577916271435 L 1967.258465496545 38.777481734805754 L 1967.5951489136305 38.78438555334007 L 1967.931832330716 38.79128937187439 L 1968.2685157478013 38.79819319040871 L 1968.6051991648867 38.80509700894303 L 1968.9418825819723 38.812000827477355 L 1969.2785659990577 38.818904646011674 L 1969.6152494161431 38.82580846454599 L 1969.9519328332285 38.83271228308031 L 1970.288616250314 38.83961610161463 L 1970.6252996673993 38.84651992014896 L 1970.9619830844847 38.853423738683276 L 1971.2986665015703 38.860327557217595 L 1971.6353499186557 38.86723137575191 L 1971.9720333357411 38.87413519428623 L 1972.3087167528265 38.88103901282056 L 1972.645400169912 38.88794283135488 L 1972.9820835869973 38.894846649889196 L 1973.3187670040827 38.901750468423515 L 1973.655450421168 38.908654286957834 L 1973.9921338382537 38.91555810549216 L 1974.3288172553391 38.92246192402648 L 1974.6655006724245 38.9293657425608 L 1975.00218408951 38.936269561095116 L 1975.3388675065953 38.943173379629435 L 1975.6755509236807 38.950077198163754 L 1976.012234340766 38.95698101669807 L 1976.3489177578517 38.9638848352324 L 1976.6856011749371 38.97078865376672 L 1977.0222845920225 38.97769247230104 L 1977.358968009108 38.984596290835356 L 1977.6956514261933 38.991500109369674 L 1978.0323348432787 38.99840392790399 L 1978.369018260364 39.00530774643831 L 1978.7057016774497 39.01221156497264 L 1979.0423850945351 39.01911538350696 L 1979.3790685116205 39.026019202041276 L 1979.715751928706 39.032923020575595 L 1980.0524353457913 39.039826839109914 L 1980.3891187628767 39.04673065764423 L 1980.725802179962 39.05363447617856 L 1981.0624855970475 39.06053829471288 L 1981.3991690141331 39.067442113247196 L 1981.7358524312185 39.074345931781515 L 1982.072535848304 39.081249750315834 L 1982.4092192653893 39.08815356885016 L 1982.7459026824747 39.09505738738448 L 1983.08258609956 39.1019612059188 L 1983.4192695166455 39.10886502445312 L 1983.7559529337311 39.11576884298744 L 1984.0926363508165 39.12267266152176 L 1984.429319767902 39.12957648005608 L 1984.7660031849873 39.1364802985904 L 1985.1026866020727 39.14338411712472 L 1985.439370019158 39.15028793565904 L 1985.7760534362435 39.157191754193356 L 1986.1127368533291 39.16409557272768 L 1986.4494202704145 39.170999391262 L 1986.7861036875 39.17790320979632 L 1987.1227871045853 39.18480702833064 L 1987.4594705216707 39.19171084686496 L 1987.796153938756 39.198614665399276 L 1988.1328373558415 39.205518483933595 L 1988.469520772927 39.212422302467914 L 1988.8062041900125 39.21932612100224 L 1989.142887607098 39.22622993953656 L 1989.4795710241833 39.23313375807088 L 1989.8162544412687 39.2400375766052 L 1990.152937858354 39.246941395139515 L 1990.4896212754395 39.253845213673834 L 1990.826304692525 39.26074903220815 L 1991.1629881096105 39.26765285074248 L 1991.499671526696 39.2745566692768 L 1991.8363549437813 39.28146048781112 L 1992.1730383608667 39.288364306345436 L 1992.509721777952 39.29526812487976 L 1992.8464051950375 39.30217194341408 L 1993.183088612123 39.3090757619484 L 1993.5197720292085 39.31597958048272 L 1993.856455446294 39.322883399017044 L 1994.1931388633793 39.32978721755136 L 1994.5298222804647 39.33669103608568 L 1994.86650569755 39.34359485462 L 1995.2031891146355 39.35049867315432 L 1995.539872531721 39.35740249168864 L 1995.8765559488063 39.36430631022296 L 1996.213239365892 39.37121012875728 L 1996.5499227829773 39.3781139472916 L 1996.8866062000627 39.38501776582592 L 1997.223289617148 39.39192158436024 L 1997.5599730342335 39.39882540289456 L 1997.896656451319 39.40572922142888 L 1998.2333398684043 39.4126330399632 L 1998.57002328549 39.41953685849752 L 1998.9067067025753 39.42644067703184 L 1999.2433901196607 39.43334449556616 L 1999.580073536746 39.44024831410048 L 1999.9167569538315 39.4471521326348 L 2000.253440370917 39.45405595116912 L 2000.5901237880023 39.460959769703436 L 2000.9268072050877 39.467863588237755 L 2001.2634906221733 39.47476740677208 L 2001.6001740392587 39.4816712253064 L 2001.9368574563441 39.48857504384072 L 2002.2735408734295 39.49547886237504 L 2002.610224290515 39.50238268090936 L 2002.9469077076003 39.50928649944368 L 2003.2835911246857 39.516190317978 L 2003.6202745417713 39.52309413651232 L 2003.9569579588567 39.529997955046646 L 2004.2936413759421 39.536901773580965 L 2004.6303247930275 39.543805592115284 L 2004.967008210113 39.5507094106496 L 2005.3036916271983 39.55761322918392 L 2005.6403750442837 39.56451704771824 L 2005.9770584613693 39.571420866252566 L 2006.3137418784547 39.578324684786885 L 2006.6504252955401 39.585228503321204 L 2006.9871087126255 39.59213232185552 L 2007.323792129711 39.59903614038984 L 2007.6604755467963 39.60593995892416 L 2007.9971589638817 39.61284377745848 L 2008.333842380967 39.6197475959928 L 2008.6705257980527 39.626651414527124 L 2009.0072092151381 39.63355523306144 L 2009.3438926322235 39.64045905159576 L 2009.680576049309 39.64736287013008 L 2010.0172594663943 39.6542666886644 L 2010.3539428834797 39.66117050719872 L 2010.690626300565 39.66807432573304 L 2011.0273097176507 39.674978144267364 L 2011.3639931347361 39.68188196280168 L 2011.7006765518215 39.688785781336 L 2012.037359968907 39.69568959987032 L 2012.3740433859923 39.70259341840464 L 2012.7107268030777 39.709497236938965 L 2013.047410220163 39.716401055473284 L 2013.3840936372487 39.7233048740076 L 2013.7207770543341 39.73020869254192 L 2014.0574604714195 39.73711251107624 L 2014.394143888505 39.74401632961057 L 2014.7308273055903 39.750920148144886 L 2015.0675107226757 39.757823966679204 L 2015.404194139761 39.76472778521352 L 2015.7408775568465 39.77163160374784 L 2016.0775609739321 39.77853542228217 L 2016.4142443910175 39.78543924081649 L 2016.750927808103 39.792343059350806 L 2017.0876112251883 39.799246877885125",
          "type": "path"
         }
        ],
        "template": {
         "data": {
          "bar": [
           {
            "error_x": {
             "color": "#2a3f5f"
            },
            "error_y": {
             "color": "#2a3f5f"
            },
            "marker": {
             "line": {
              "color": "white",
              "width": 0.5
             },
             "pattern": {
              "fillmode": "overlay",
              "size": 10,
              "solidity": 0.2
             }
            },
            "type": "bar"
           }
          ],
          "barpolar": [
           {
            "marker": {
             "line": {
              "color": "white",
              "width": 0.5
             },
             "pattern": {
              "fillmode": "overlay",
              "size": 10,
              "solidity": 0.2
             }
            },
            "type": "barpolar"
           }
          ],
          "box": [
           {
            "boxpoints": "outliers",
            "notched": false,
            "type": "box"
           }
          ],
          "carpet": [
           {
            "aaxis": {
             "endlinecolor": "#2a3f5f",
             "gridcolor": "#C8D4E3",
             "linecolor": "#C8D4E3",
             "minorgridcolor": "#C8D4E3",
             "startlinecolor": "#2a3f5f"
            },
            "baxis": {
             "endlinecolor": "#2a3f5f",
             "gridcolor": "#C8D4E3",
             "linecolor": "#C8D4E3",
             "minorgridcolor": "#C8D4E3",
             "startlinecolor": "#2a3f5f"
            },
            "type": "carpet"
           }
          ],
          "choropleth": [
           {
            "colorbar": {
             "outlinewidth": 0,
             "ticks": ""
            },
            "type": "choropleth"
           }
          ],
          "contour": [
           {
            "colorbar": {
             "outlinewidth": 0,
             "ticks": ""
            },
            "colorscale": [
             [
              0,
              "#0d0887"
             ],
             [
              0.1111111111111111,
              "#46039f"
             ],
             [
              0.2222222222222222,
              "#7201a8"
             ],
             [
              0.3333333333333333,
              "#9c179e"
             ],
             [
              0.4444444444444444,
              "#bd3786"
             ],
             [
              0.5555555555555556,
              "#d8576b"
             ],
             [
              0.6666666666666666,
              "#ed7953"
             ],
             [
              0.7777777777777778,
              "#fb9f3a"
             ],
             [
              0.8888888888888888,
              "#fdca26"
             ],
             [
              1,
              "#f0f921"
             ]
            ],
            "type": "contour"
           }
          ],
          "contourcarpet": [
           {
            "colorbar": {
             "outlinewidth": 0,
             "ticks": ""
            },
            "type": "contourcarpet"
           }
          ],
          "heatmap": [
           {
            "colorbar": {
             "outlinewidth": 0,
             "ticks": ""
            },
            "colorscale": [
             [
              0,
              "#0d0887"
             ],
             [
              0.1111111111111111,
              "#46039f"
             ],
             [
              0.2222222222222222,
              "#7201a8"
             ],
             [
              0.3333333333333333,
              "#9c179e"
             ],
             [
              0.4444444444444444,
              "#bd3786"
             ],
             [
              0.5555555555555556,
              "#d8576b"
             ],
             [
              0.6666666666666666,
              "#ed7953"
             ],
             [
              0.7777777777777778,
              "#fb9f3a"
             ],
             [
              0.8888888888888888,
              "#fdca26"
             ],
             [
              1,
              "#f0f921"
             ]
            ],
            "type": "heatmap"
           }
          ],
          "heatmapgl": [
           {
            "colorbar": {
             "outlinewidth": 0,
             "ticks": ""
            },
            "colorscale": [
             [
              0,
              "#0d0887"
             ],
             [
              0.1111111111111111,
              "#46039f"
             ],
             [
              0.2222222222222222,
              "#7201a8"
             ],
             [
              0.3333333333333333,
              "#9c179e"
             ],
             [
              0.4444444444444444,
              "#bd3786"
             ],
             [
              0.5555555555555556,
              "#d8576b"
             ],
             [
              0.6666666666666666,
              "#ed7953"
             ],
             [
              0.7777777777777778,
              "#fb9f3a"
             ],
             [
              0.8888888888888888,
              "#fdca26"
             ],
             [
              1,
              "#f0f921"
             ]
            ],
            "type": "heatmapgl"
           }
          ],
          "histogram": [
           {
            "marker": {
             "line": {
              "width": 1
             },
             "pattern": {
              "fillmode": "overlay",
              "size": 10,
              "solidity": 0.2
             }
            },
            "type": "histogram"
           }
          ],
          "histogram2d": [
           {
            "colorbar": {
             "outlinewidth": 0,
             "ticks": ""
            },
            "colorscale": [
             [
              0,
              "#0d0887"
             ],
             [
              0.1111111111111111,
              "#46039f"
             ],
             [
              0.2222222222222222,
              "#7201a8"
             ],
             [
              0.3333333333333333,
              "#9c179e"
             ],
             [
              0.4444444444444444,
              "#bd3786"
             ],
             [
              0.5555555555555556,
              "#d8576b"
             ],
             [
              0.6666666666666666,
              "#ed7953"
             ],
             [
              0.7777777777777778,
              "#fb9f3a"
             ],
             [
              0.8888888888888888,
              "#fdca26"
             ],
             [
              1,
              "#f0f921"
             ]
            ],
            "type": "histogram2d"
           }
          ],
          "histogram2dcontour": [
           {
            "colorbar": {
             "outlinewidth": 0,
             "ticks": ""
            },
            "colorscale": [
             [
              0,
              "#0d0887"
             ],
             [
              0.1111111111111111,
              "#46039f"
             ],
             [
              0.2222222222222222,
              "#7201a8"
             ],
             [
              0.3333333333333333,
              "#9c179e"
             ],
             [
              0.4444444444444444,
              "#bd3786"
             ],
             [
              0.5555555555555556,
              "#d8576b"
             ],
             [
              0.6666666666666666,
              "#ed7953"
             ],
             [
              0.7777777777777778,
              "#fb9f3a"
             ],
             [
              0.8888888888888888,
              "#fdca26"
             ],
             [
              1,
              "#f0f921"
             ]
            ],
            "type": "histogram2dcontour"
           }
          ],
          "mesh3d": [
           {
            "colorbar": {
             "outlinewidth": 0,
             "ticks": ""
            },
            "type": "mesh3d"
           }
          ],
          "parcoords": [
           {
            "line": {
             "colorbar": {
              "outlinewidth": 0,
              "ticks": ""
             }
            },
            "type": "parcoords"
           }
          ],
          "pie": [
           {
            "automargin": true,
            "type": "pie"
           }
          ],
          "scatter": [
           {
            "fillpattern": {
             "fillmode": "overlay",
             "size": 10,
             "solidity": 0.2
            },
            "marker": {
             "opacity": 0.8
            },
            "type": "scatter"
           }
          ],
          "scatter3d": [
           {
            "line": {
             "colorbar": {
              "outlinewidth": 0,
              "ticks": ""
             }
            },
            "marker": {
             "colorbar": {
              "outlinewidth": 0,
              "ticks": ""
             },
             "opacity": 0.8
            },
            "type": "scatter3d"
           }
          ],
          "scattercarpet": [
           {
            "marker": {
             "colorbar": {
              "outlinewidth": 0,
              "ticks": ""
             }
            },
            "type": "scattercarpet"
           }
          ],
          "scattergeo": [
           {
            "marker": {
             "colorbar": {
              "outlinewidth": 0,
              "ticks": ""
             }
            },
            "type": "scattergeo"
           }
          ],
          "scattergl": [
           {
            "marker": {
             "colorbar": {
              "outlinewidth": 0,
              "ticks": ""
             }
            },
            "type": "scattergl"
           }
          ],
          "scattermapbox": [
           {
            "marker": {
             "colorbar": {
              "outlinewidth": 0,
              "ticks": ""
             }
            },
            "type": "scattermapbox"
           }
          ],
          "scatterpolar": [
           {
            "marker": {
             "colorbar": {
              "outlinewidth": 0,
              "ticks": ""
             }
            },
            "type": "scatterpolar"
           }
          ],
          "scatterpolargl": [
           {
            "marker": {
             "colorbar": {
              "outlinewidth": 0,
              "ticks": ""
             }
            },
            "type": "scatterpolargl"
           }
          ],
          "scatterternary": [
           {
            "marker": {
             "colorbar": {
              "outlinewidth": 0,
              "ticks": ""
             }
            },
            "type": "scatterternary"
           }
          ],
          "surface": [
           {
            "colorbar": {
             "outlinewidth": 0,
             "ticks": ""
            },
            "colorscale": [
             [
              0,
              "#0d0887"
             ],
             [
              0.1111111111111111,
              "#46039f"
             ],
             [
              0.2222222222222222,
              "#7201a8"
             ],
             [
              0.3333333333333333,
              "#9c179e"
             ],
             [
              0.4444444444444444,
              "#bd3786"
             ],
             [
              0.5555555555555556,
              "#d8576b"
             ],
             [
              0.6666666666666666,
              "#ed7953"
             ],
             [
              0.7777777777777778,
              "#fb9f3a"
             ],
             [
              0.8888888888888888,
              "#fdca26"
             ],
             [
              1,
              "#f0f921"
             ]
            ],
            "type": "surface"
           }
          ],
          "table": [
           {
            "cells": {
             "fill": {
              "color": "#EBF0F8"
             },
             "line": {
              "color": "white"
             }
            },
            "header": {
             "fill": {
              "color": "#C8D4E3"
             },
             "line": {
              "color": "white"
             }
            },
            "type": "table"
           }
          ]
         },
         "layout": {
          "annotationdefaults": {
           "arrowcolor": "#2a3f5f",
           "arrowhead": 0,
           "arrowwidth": 1
          },
          "autotypenumbers": "strict",
          "coloraxis": {
           "colorbar": {
            "outlinewidth": 0,
            "ticks": ""
           }
          },
          "colorscale": {
           "diverging": [
            [
             0,
             "#8e0152"
            ],
            [
             0.1,
             "#c51b7d"
            ],
            [
             0.2,
             "#de77ae"
            ],
            [
             0.3,
             "#f1b6da"
            ],
            [
             0.4,
             "#fde0ef"
            ],
            [
             0.5,
             "#f7f7f7"
            ],
            [
             0.6,
             "#e6f5d0"
            ],
            [
             0.7,
             "#b8e186"
            ],
            [
             0.8,
             "#7fbc41"
            ],
            [
             0.9,
             "#4d9221"
            ],
            [
             1,
             "#276419"
            ]
           ],
           "sequential": [
            [
             0,
             "#0d0887"
            ],
            [
             0.1111111111111111,
             "#46039f"
            ],
            [
             0.2222222222222222,
             "#7201a8"
            ],
            [
             0.3333333333333333,
             "#9c179e"
            ],
            [
             0.4444444444444444,
             "#bd3786"
            ],
            [
             0.5555555555555556,
             "#d8576b"
            ],
            [
             0.6666666666666666,
             "#ed7953"
            ],
            [
             0.7777777777777778,
             "#fb9f3a"
            ],
            [
             0.8888888888888888,
             "#fdca26"
            ],
            [
             1,
             "#f0f921"
            ]
           ],
           "sequentialminus": [
            [
             0,
             "#0d0887"
            ],
            [
             0.1111111111111111,
             "#46039f"
            ],
            [
             0.2222222222222222,
             "#7201a8"
            ],
            [
             0.3333333333333333,
             "#9c179e"
            ],
            [
             0.4444444444444444,
             "#bd3786"
            ],
            [
             0.5555555555555556,
             "#d8576b"
            ],
            [
             0.6666666666666666,
             "#ed7953"
            ],
            [
             0.7777777777777778,
             "#fb9f3a"
            ],
            [
             0.8888888888888888,
             "#fdca26"
            ],
            [
             1,
             "#f0f921"
            ]
           ]
          },
          "colorway": [
           "#636efa",
           "#EF553B",
           "#00cc96",
           "#ab63fa",
           "#FFA15A",
           "#19d3f3",
           "#FF6692",
           "#B6E880",
           "#FF97FF",
           "#FECB52"
          ],
          "font": {
           "color": "#2a3f5f"
          },
          "geo": {
           "bgcolor": "white",
           "lakecolor": "white",
           "landcolor": "white",
           "showlakes": true,
           "showland": true,
           "subunitcolor": "#C8D4E3"
          },
          "height": 400,
          "hoverlabel": {
           "align": "left"
          },
          "hovermode": "closest",
          "mapbox": {
           "style": "light"
          },
          "margin": {
           "b": 2,
           "l": 2,
           "r": 2,
           "t": 30
          },
          "paper_bgcolor": "white",
          "plot_bgcolor": "white",
          "polar": {
           "angularaxis": {
            "gridcolor": "#EBF0F8",
            "linecolor": "#EBF0F8",
            "ticks": ""
           },
           "bgcolor": "white",
           "radialaxis": {
            "gridcolor": "#EBF0F8",
            "linecolor": "#EBF0F8",
            "ticks": ""
           }
          },
          "scene": {
           "camera": {
            "eye": {
             "x": 1.5,
             "y": 1.5,
             "z": 0.1
            }
           },
           "xaxis": {
            "backgroundcolor": "white",
            "gridcolor": "#DFE8F3",
            "gridwidth": 2,
            "linecolor": "#EBF0F8",
            "showbackground": true,
            "ticks": "",
            "zerolinecolor": "#EBF0F8"
           },
           "yaxis": {
            "backgroundcolor": "white",
            "gridcolor": "#DFE8F3",
            "gridwidth": 2,
            "linecolor": "#EBF0F8",
            "showbackground": true,
            "ticks": "",
            "zerolinecolor": "#EBF0F8"
           },
           "zaxis": {
            "backgroundcolor": "white",
            "gridcolor": "#DFE8F3",
            "gridwidth": 2,
            "linecolor": "#EBF0F8",
            "showbackground": true,
            "ticks": "",
            "zerolinecolor": "#EBF0F8"
           }
          },
          "shapedefaults": {
           "line": {
            "color": "#2a3f5f"
           }
          },
          "ternary": {
           "aaxis": {
            "gridcolor": "#DFE8F3",
            "linecolor": "#A2B1C6",
            "ticks": ""
           },
           "baxis": {
            "gridcolor": "#DFE8F3",
            "linecolor": "#A2B1C6",
            "ticks": ""
           },
           "bgcolor": "white",
           "caxis": {
            "gridcolor": "#DFE8F3",
            "linecolor": "#A2B1C6",
            "ticks": ""
           }
          },
          "title": {
           "x": 0.5
          },
          "xaxis": {
           "automargin": true,
           "gridcolor": "#EBF0F8",
           "linecolor": "#EBF0F8",
           "linewidth": 2,
           "showline": true,
           "ticks": "",
           "title": {
            "standoff": 15
           },
           "zerolinecolor": "#EBF0F8",
           "zerolinewidth": 2
          },
          "yaxis": {
           "automargin": true,
           "gridcolor": "#EBF0F8",
           "linecolor": "#EBF0F8",
           "linewidth": 2,
           "showline": true,
           "ticks": "",
           "title": {
            "standoff": 15
           },
           "zerolinecolor": "#EBF0F8",
           "zerolinewidth": 2
          }
         }
        },
        "xaxis": {
         "anchor": "y",
         "domain": [
          0,
          1
         ],
         "title": {
          "text": "year"
         }
        },
        "yaxis": {
         "anchor": "x",
         "domain": [
          0,
          1
         ],
         "title": {
          "text": "min temperature"
         }
        }
       }
      }
     },
     "metadata": {},
     "output_type": "display_data"
    }
   ],
   "source": [
    "# Fit a model with SSD\n",
    "# Fit a model by using sum of square differences\n",
    "model = MicrosoftCustomLinearRegressor().fit(X = dataset.year, \n",
    "                                             y = dataset.min_temperature, \n",
    "                                             cost_function = sum_of_absolute_differences)\n",
    "\n",
    "# Graph the model\n",
    "graphing.scatter_2D(dataset, \n",
    "                    label_x=\"year\", \n",
    "                    label_y=\"min_temperature\", \n",
    "                    trendline=model.predict)"
   ]
  },
  {
   "cell_type": "code",
   "execution_count": null,
   "metadata": {},
   "outputs": [],
   "source": []
  }
 ],
 "metadata": {
  "kernelspec": {
   "display_name": "Python 3",
   "language": "python",
   "name": "python3"
  },
  "language_info": {
   "codemirror_mode": {
    "name": "ipython",
    "version": 3
   },
   "file_extension": ".py",
   "mimetype": "text/x-python",
   "name": "python",
   "nbconvert_exporter": "python",
   "pygments_lexer": "ipython3",
   "version": "3.9.6"
  },
  "orig_nbformat": 4,
  "vscode": {
   "interpreter": {
    "hash": "31f2aee4e71d21fbe5cf8b01ff0e069b9275f58929596ceb00d14d90e3e16cd6"
   }
  }
 },
 "nbformat": 4,
 "nbformat_minor": 2
}
